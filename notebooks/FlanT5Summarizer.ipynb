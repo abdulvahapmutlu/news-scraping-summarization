{
 "cells": [
  {
   "cell_type": "code",
   "execution_count": 1,
   "id": "cecd48d5-f49b-45fb-bea8-574fd18056b6",
   "metadata": {},
   "outputs": [
    {
     "name": "stderr",
     "output_type": "stream",
     "text": [
      "C:\\Users\\Furkan\\anaconda3\\envs\\pytorch\\lib\\site-packages\\tqdm\\auto.py:21: TqdmWarning: IProgress not found. Please update jupyter and ipywidgets. See https://ipywidgets.readthedocs.io/en/stable/user_install.html\n",
      "  from .autonotebook import tqdm as notebook_tqdm\n"
     ]
    }
   ],
   "source": [
    "from selenium import webdriver\n",
    "from selenium.webdriver.common.by import By\n",
    "from selenium.webdriver.chrome.options import Options\n",
    "import time\n",
    "from transformers import AutoTokenizer, AutoModelForSeq2SeqLM\n",
    "import torch\n"
   ]
  },
  {
   "cell_type": "code",
   "execution_count": 2,
   "id": "b1987a5f-bc3b-469c-8921-69166f240c08",
   "metadata": {},
   "outputs": [],
   "source": [
    "# Configure Chrome options\n",
    "chrome_options = Options()\n",
    "chrome_options.add_argument(\"--start-maximized\")  # Start browser maximized\n",
    "\n",
    "# Initialize WebDriver (Ensure chromedriver is in PATH)\n",
    "driver = webdriver.Chrome(options=chrome_options)\n"
   ]
  },
  {
   "cell_type": "code",
   "execution_count": 3,
   "id": "209f092c-ad0b-4b42-87f1-f05b2e8e4e6b",
   "metadata": {},
   "outputs": [],
   "source": [
    "def scrape_news_directly(url): \n",
    "    try:\n",
    "        # Open the news article page directly\n",
    "        driver.get(url)\n",
    "        time.sleep(2)  # Allow the page to load\n",
    "\n",
    "        # Scrape headline\n",
    "        headline = driver.find_element(By.XPATH, '//h1[@class=\"-\"]').text\n",
    "\n",
    "        # Scrape related paragraphs from the content section\n",
    "        content_elements = driver.find_elements(By.XPATH, '//p[@class=\"-\"]')\n",
    "        content = ' '.join([paragraph.text for paragraph in content_elements])\n",
    "        \n",
    "        # Combine the scraped content\n",
    "        return f\"{headline}\\n{content}\"\n",
    "    except Exception as e:\n",
    "        print(f\"An error occurred during scraping: {e}\")\n",
    "        return None\n"
   ]
  },
  {
   "cell_type": "code",
   "execution_count": 4,
   "id": "0fe741a6-8e22-4f69-9e1b-820a706d336f",
   "metadata": {},
   "outputs": [
    {
     "name": "stderr",
     "output_type": "stream",
     "text": [
      "Loading checkpoint shards: 100%|██████████| 2/2 [00:00<00:00,  5.45it/s]\n"
     ]
    }
   ],
   "source": [
    "# Load the FLAN-T5-XL model and tokenizer\n",
    "model_name = \"google/flan-t5-xl\"  # FLAN-T5-XL for better summarization quality\n",
    "tokenizer = AutoTokenizer.from_pretrained(model_name)\n",
    "model = AutoModelForSeq2SeqLM.from_pretrained(model_name).to(\"cuda\")  # Use GPU for faster inference\n"
   ]
  },
  {
   "cell_type": "code",
   "execution_count": 5,
   "id": "7d014976-47ba-47cd-bd4b-8a7b7d910f4d",
   "metadata": {},
   "outputs": [],
   "source": [
    "def summarize_text_flan_t5(text, min_length=50, max_length=200):\n",
    "    try:\n",
    "        # Split input into manageable chunks if it exceeds the token limit\n",
    "        input_chunks = [text[i:i+400] for i in range(0, len(text), 400)]\n",
    "        \n",
    "        # Summarize each chunk\n",
    "        summaries = []\n",
    "        for chunk in input_chunks:\n",
    "            input_text = f\"summarize: {chunk}\"\n",
    "            inputs = tokenizer(\n",
    "                input_text,\n",
    "                return_tensors=\"pt\",\n",
    "                truncation=True,\n",
    "                max_length=512,  # Adjusted for FLAN-T5-XL input size\n",
    "                padding=\"longest\"\n",
    "            ).to(\"cuda\")  # Ensure inputs are on the GPU\n",
    "            summary_ids = model.generate(\n",
    "                inputs.input_ids,\n",
    "                max_length=max_length,  # Max length of the generated summary\n",
    "                min_length=min_length,  # Minimum length of the generated summary\n",
    "                num_beams=5,            # Beam search for better quality\n",
    "                early_stopping=True\n",
    "            )\n",
    "            summaries.append(tokenizer.decode(summary_ids[0], skip_special_tokens=True))\n",
    "        \n",
    "        # Combine summaries into one coherent summary\n",
    "        return \" \".join(summaries)\n",
    "    except Exception as e:\n",
    "        print(f\"An error occurred during summarization: {e}\")\n",
    "        return \"Summarization failed.\"\n"
   ]
  },
  {
   "cell_type": "code",
   "execution_count": 7,
   "id": "f56c2690-5b80-4a43-bd87-c18f40ae2315",
   "metadata": {},
   "outputs": [
    {
     "name": "stdout",
     "output_type": "stream",
     "text": [
      "Scraped News Content:\n",
      "Stonehenge may have been erected to unite early British farming communities, research finds\n",
      "Five thousand years after the first monument was created at Stonehenge, it continues to give up dramatic new secrets – such as the “jaw-dropping” revelation earlier this year that its central stone had been transported more than 700km to Salisbury plain from the very north of Scotland. While it had been known for more than a century that the huge sarsens for which Stonehenge is best known come from more than 12 miles (20km) away and its “bluestones” originated in Wales, the discovery that the altar stone, which sits right at its heart, was Scottish caused an archaeological sensation, capturing headlines around the world. Now, a leading archaeologist and authority on Stonehenge has proposed a striking explanation of why its stones were transported such mind-boggling distances. Stonehenge may have been erected explicitly to unite early farming communities across the island of Britain at a time of cultural stress, argues Mike Parker Pearson, professor of British later prehistory at University College London – and the altar stone may have been taken from a distant Scottish monument as a gift or marker of political alliance. While the structure is unique for many reasons – including its extensive stone-dressing and that it has lintels – no other monument in Britain or Ireland incorporates stones that were brought such huge distances, Parker Pearson writes in a forthcoming paper in the journal Archaeology International. “Stonehenge stands out in being a material and monumental microcosm of the entirety of the British Isles.” As such, we should consider Stonehenge to be a political monument as much as a religious one, Parker Pearson said. “It’s not a temple – that has been a major stumbling block for hundreds of years. It’s not a calendar, and it’s not an observatory.” The structure’s famous alignment to the winter and summer solstices echoes earlier constructions such as Newgrange in the Boyne valley in Ireland, but may not be its main purpose, he said. “I think we’ve just not been looking at Stonehenge in the right way. You really have to look at all of it to work out what they’re doing. They’re constructing a monument that is expressing the permanence of particular aspects in their world.” The altar stone is often overlooked by visitors to Stonehenge because it lies flat and partly obscured by a huge fallen sarsen. It was long assumed that it had also fallen, said Parker Pearson – yet north-east Scotland is home to multiple circles in which the stones are purposely laid flat. “Given what we now know about where it’s from, it seems all the more likely that it was deliberately set as a recumbent stone,” he said, adding that it is “highly likely” that the altar stone had been part of an earlier Scottish monument. “These stones are not just plucked out of anywhere.” With Orkney having been ruled out as a potential origin, other potential sites or origin are now being examined. “I think we’ll wait and see. It’s very exciting,” he said. Archaeologists believe the altar stone may have been installed around 2500BCE, about the time Stonehenge was being remodelled from its original form. This was a period of cultural change in Britain amid new arrivals from mainland Europe. “There’s obviously some kind of interaction – you might call it first contact,” said Parker Pearson. “That is the moment that Stonehenge is built, and I wonder if it is that moment of contact that serves, in whatever way, as the catalyst for this really impressive second stage of Stonehenge. It’s an attempt to assert unity, quite possibly integrating the newcomers – or not.” Ultimately, however, “it doesn’t succeed” – given genetic research shows the incoming “beaker people” would largely displace the earlier neolithic populations. “That said, Stonehenge is adopted [as a monument] by those beaker-using people whose descendants become the dominant population of Britain,” said Parker Pearson. “So despite the change in population, Stonehenge continues to exert its significance in the wider world.” This article was amended on 20 December 2024 to clarify that Parker Pearson’s research will appear in a forthcoming edition of the journal Archaeology International.\n",
      "\n",
      "Summarized News Content:\n",
      "Stonehenge had been erected to unite early British farming communities, a new study has suggested that the monument may have been erected to unite farming communities in the Stonehenge area, rather than as a monument to the gods. wn for more than a century that the huge sarsens for which Stonehenge is known come from more than 12 miles (20km) away and its “bluestones” originate in Wales, the discovery that the altar stone, which sits right at its heart, was Scottish caused an archaeological sensation, capturing headlines around the world. Now, a leading archaeologist and authority on Stonehenge has proposed a strikin a remembrance of a lost ancestor, he adds, suggesting that Stonehenge may have been erected to unite early farming communities across the island of Britain at a time of cultural stress. Britain and Ireland’s prehistory,” he writes in the paper, published by the British Archaeological Association (BAA) and published in the journal Archaeological International, which is published by the British Archaeological Association. Stonehenge, a prehistoric monument in Ireland, which is also aligned to the winter and summer solstices, and to the equinoxes and equinoxes, and to the solstices and equinoxes. Stonehenge’s altar stone may have been used as a place of remembrance for the ancestors of the druids who built the monument, according to a leading archaeologist. A sarsen has been found at a prehistoric stone circle in north-east Scotland that was thought to have been a sarcophagus, a sarcophagus with a stone altar on top. Archaeologists have ruled out Orkney as a possible origin for a stone that has been found in the Stonehenge area of Wiltshire. The stone is thought to have been part of an earlier Scottish monument. om its original form. This was a period of cultural change in Britain amid new arrivals from mainland Europe. “I wonder if it is that moment of contact that serves, in whatever way, as the catalyst for this really impressive second stage of Stonehenge,” said Parker Pearson. Stonehenge, a prehistoric stone circle in Wiltshire, England, is a monument to the neolithic people who inhabited the area around 5,000 years ago, according to archaeologists and historians. Stonehenge, the ancient monument at the heart of Wiltshire, is one of the most popular tourist destinations in the UK, according to a new survey. The survey, carried out by archaeologists at the University of Salford, found that Stonehenge is the most popular tourist attraction in Wiltshire.\n"
     ]
    }
   ],
   "source": [
    "# Define the target URL\n",
    "target_url = \"website-link\"\n",
    "\n",
    "# Scrape the news content directly from the link\n",
    "news_content = scrape_news_directly(target_url)\n",
    "if news_content:\n",
    "    print(\"Scraped News Content:\")\n",
    "    print(news_content)\n",
    "    \n",
    "    # Summarize the news content using FLAN-T5-XL\n",
    "    summary = summarize_text_flan_t5(news_content)\n",
    "    print(\"\\nSummarized News Content:\")\n",
    "    print(summary)\n",
    "else:\n",
    "    print(\"Failed to scrape news content.\")\n"
   ]
  },
  {
   "cell_type": "code",
   "execution_count": 8,
   "id": "a36458a7-37ef-473b-bcdd-b4fce358edfe",
   "metadata": {},
   "outputs": [],
   "source": [
    "driver.quit()\n"
   ]
  },
  {
   "cell_type": "code",
   "execution_count": null,
   "id": "4e116fd9-4fe1-48f4-a397-f7f44a1aa607",
   "metadata": {},
   "outputs": [],
   "source": []
  }
 ],
 "metadata": {
  "kernelspec": {
   "display_name": "Python 3 (ipykernel)",
   "language": "python",
   "name": "python3"
  },
  "language_info": {
   "codemirror_mode": {
    "name": "ipython",
    "version": 3
   },
   "file_extension": ".py",
   "mimetype": "text/x-python",
   "name": "python",
   "nbconvert_exporter": "python",
   "pygments_lexer": "ipython3",
   "version": "3.9.19"
  }
 },
 "nbformat": 4,
 "nbformat_minor": 5
}
